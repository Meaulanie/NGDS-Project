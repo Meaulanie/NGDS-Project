{
 "cells": [
  {
   "cell_type": "markdown",
   "metadata": {},
   "source": [
    "## NGDS-Projekt - Gruppe J"
   ]
  },
  {
   "cell_type": "markdown",
   "metadata": {},
   "source": [
    "Namen und E-Mail-Adressen der Gruppenmitglieder:\n",
    "\n",
    "- Melanie Rohrbacher, <rohrbme1@students.zhaw.ch> \n",
    "- (Adriana Grabar, <grabaadr@students.zhaw.ch> -> aus dem Studium ausgetreten, siehe Mail vom Mi, 23.04.24)\n",
    "\n",
    "Zugeteilte Wetterstation:  SCU"
   ]
  },
  {
   "cell_type": "markdown",
   "metadata": {},
   "source": [
    "### Bibliotheken importieren und globaler Parameter definieren"
   ]
  },
  {
   "cell_type": "code",
   "execution_count": 1,
   "metadata": {},
   "outputs": [],
   "source": [
    "import numpy as np\n",
    "import matplotlib.pyplot as plt\n"
   ]
  },
  {
   "cell_type": "markdown",
   "metadata": {},
   "source": [
    "### 1. Daten importieren und bereinigen"
   ]
  },
  {
   "cell_type": "markdown",
   "metadata": {},
   "source": [
    "Importiert die Daten (Strings und Zahlen getrennt), wählt die relevanten Spalten und Zeilen aus und löscht fehlende Werte. Am Ende sollt ihr je ein Array für den Messzeitpunkt (in Tagen seit der ersten Messung) und die gemessenen Wetterdaten für eure Wetterstation haben."
   ]
  },
  {
   "cell_type": "code",
   "execution_count": 3,
   "metadata": {},
   "outputs": [
    {
     "name": "stdout",
     "output_type": "stream",
     "text": [
      "[array(['AND', 'AND', 'AND', ..., 'WFJ', 'WFJ', 'WFJ'], dtype='<U3'), array([[ 9.13900000e+02,  1.11000000e+01,  0.00000000e+00,\n",
      "         0.00000000e+00,  0.00000000e+00],\n",
      "       [ 9.13800000e+02,  1.11000000e+01,  0.00000000e+00,\n",
      "         0.00000000e+00,  4.16666667e-02],\n",
      "       [ 9.13700000e+02,  1.05000000e+01,  0.00000000e+00,\n",
      "         0.00000000e+00,  8.33333333e-02],\n",
      "       ...,\n",
      "       [ 7.25500000e+02, -8.20000000e+00,  7.00000000e-01,\n",
      "         0.00000000e+00,  3.64875000e+02],\n",
      "       [ 7.25600000e+02, -8.90000000e+00,  1.00000000e-01,\n",
      "         0.00000000e+00,  3.64916667e+02],\n",
      "       [ 7.25800000e+02, -9.00000000e+00,  0.00000000e+00,\n",
      "         0.00000000e+00,  3.64958333e+02]])]\n"
     ]
    }
   ],
   "source": [
    "# Versuch 1 nicht vollständig -> Versuch 2\n",
    "#Versuch 1: Einlesen mit Zwei getrennten Listen/Arrays\n",
    "# Einlesen der Daten\n",
    "wetterstation = np.loadtxt('Graubuenden.csv', delimiter=',',skiprows=1, usecols=(0), dtype=str)\n",
    "werte = np.loadtxt('Graubuenden.csv', delimiter=',',skiprows=1, usecols= (2,3,4,5,6), dtype=float)\n",
    "\n",
    "# Aufgabe 1\n",
    "data = []\n",
    "\n",
    "data.append(wetterstation)\n",
    "data.append(werte)\n",
    "\n",
    "print(data)\n",
    "\n"
   ]
  },
  {
   "cell_type": "markdown",
   "metadata": {},
   "source": [
    "### 2. Interpolation"
   ]
  },
  {
   "cell_type": "markdown",
   "metadata": {},
   "source": [
    "Wir haben 15% der Zeilen in den Originaldaten gelöscht. Also gibt es nicht genau stündlich Messwerte.\n",
    "\n",
    "Bestimmt eine Interpolationsfunktion für jede Messgrösse und interpoliert die Messreihen viertelstündlich (d.h. für jede Stunde vier Werte plus den Endpunkt am 1. Januar um 0:00).\n",
    "\n",
    "Wählt die Art und den Grad der Interpolation so aus, dass die interpolierten Werte auch physikalisch sinnvoll sind."
   ]
  },
  {
   "cell_type": "code",
   "execution_count": 4,
   "metadata": {},
   "outputs": [
    {
     "name": "stdout",
     "output_type": "stream",
     "text": [
      "[['SCU' '880.7' '0.3' '0.0' '0.0' '0.0']\n",
      " ['SCU' '880.7' '0.3' '0.0' '0.0' '0.041666666666666664']\n",
      " ['SCU' '880.7' '0.0' '0.0' '0.0' '0.125']\n",
      " ['SCU' '880.5' '0.1' '0.0' '0.0' '0.16666666666666666']\n",
      " ['SCU' '881.1' '0.1' '0.0' '0.0' '0.3333333333333333']\n",
      " ['SCU' '881.1' '0.8' '0.0' '0.0' '0.375']\n",
      " ['SCU' '881.0' '2.2' '0.0' '0.8' '0.4166666666666667']\n",
      " ['SCU' '880.4' '4.0' '0.0' '1.0' '0.4583333333333333']\n",
      " ['SCU' '879.6' '4.6' '0.0' '1.0' '0.5']\n",
      " ['SCU' '878.8' '5.8' '0.0' '1.0' '0.5416666666666666']\n",
      " ['SCU' '879.2' '3.2' '0.0' '0.0' '0.7083333333333334']\n",
      " ['SCU' '879.5' '2.9' '0.0' '0.0' '0.75']\n",
      " ['SCU' '879.7' '2.5' '0.0' '0.0' '0.7916666666666666']\n",
      " ['SCU' '880.2' '1.4' '0.0' '0.0' '0.9166666666666666']\n",
      " ['SCU' '880.2' '0.6' '0.0' '0.0' '0.9583333333333334']\n",
      " ['SCU' '880.1' '0.9' '0.0' '0.0' '1.0']\n",
      " ['SCU' '879.7' '1.0' '0.0' '0.0' '1.0416666666666667']\n",
      " ['SCU' '879.5' '0.6' '0.0' '0.0' '1.0833333333333333']\n",
      " ['SCU' '879.3' '0.1' '0.0' '0.0' '1.125']\n",
      " ['SCU' '879.0' '0.2' '0.0' '0.0' '1.1666666666666667']]\n"
     ]
    }
   ],
   "source": [
    "#Versuch 2: Import mit einer Liste/Array\n",
    "data = np.loadtxt('Graubuenden.csv', delimiter=',',skiprows=1, usecols= (0,2,3,4,5,6), dtype=str)\n",
    "\n",
    "\n",
    "for row in data:\n",
    "#row = [Station(String, Kürzel), Luftdruck(Float, hPA), Lufttemperatur(Float,°C ), Niederschlag(Float, mm), Sonnenscheindauer(Float, h), TageMessung(Float, Tage)]\n",
    "# Achtung: row[Zahl], nicht die gleiche wie Import\n",
    "    stn = str(row[0])\n",
    "    pressure = float(row[1])\n",
    "    temperature = float(row[2])\n",
    "    precipitation = float(row[3])\n",
    "    sunshine = float(row[4])\n",
    "    days = float(row[5])\n",
    "\n",
    "#print(data)\n",
    "\n",
    "# löschung der fehlenden Messwerte\n",
    "data_clean = [row for row in data if '-' not in row]\n",
    "# Filter nach SCU\n",
    "scu_data = [row for row in data_clean if row[0] == 'SCU']\n",
    "#print(scu_data)\n",
    "\n",
    "arr_data = np.array(scu_data)\n",
    "print(arr_data[:20])"
   ]
  },
  {
   "cell_type": "markdown",
   "metadata": {},
   "source": [
    "### 3. Daten und Interpolation darstellen und vergleichen "
   ]
  },
  {
   "cell_type": "markdown",
   "metadata": {},
   "source": [
    "Um die Interpolation zu überprüfen, stellt für alle Variablen jeweils die Daten und die Interpolationsfunktion zusammen grafisch dar.\n",
    "\n",
    "Wählt dazu ein Zeitfenster von ein paar Tagen, in dem alle Variablen ein etwas interessantes Verhalten zeigen, d.h. es fällt Regen und die Sonne scheint."
   ]
  },
  {
   "cell_type": "code",
   "execution_count": null,
   "metadata": {},
   "outputs": [],
   "source": []
  },
  {
   "cell_type": "markdown",
   "metadata": {},
   "source": [
    "### 4. Nullstellen der Temperatur bestimmen"
   ]
  },
  {
   "cell_type": "markdown",
   "metadata": {},
   "source": [
    "Wählt einen von ca. einer Woche, in der die Temperatur um Null herum schwankt. \n",
    "\n",
    "Bestimmt die Zeitpunkte, an denen die Temperatur den Wert Null hat. Nutzt dazu die Interpolationsfunktion der Temperatur aus Schritt 2.\n",
    "\n",
    "Stellt die Temperatur und die Nullstellen zusammen grafisch dar.\n",
    "\n",
    "Alternativ (und ein wenig schwieriger) könnt ihr auch einen Zeitraum wählen, in der die Temperatur hohe Werte erreicht. Bestimmt dann die Zeitpunkte, an denen die Temperatur einen bestimmten Hitzewert überschreitet, z.B. 30 Grad."
   ]
  },
  {
   "cell_type": "code",
   "execution_count": null,
   "metadata": {},
   "outputs": [],
   "source": []
  },
  {
   "cell_type": "markdown",
   "metadata": {},
   "source": [
    "### 5. Grosse Schwankungen in Temperatur oder Luftdruck finden"
   ]
  },
  {
   "cell_type": "markdown",
   "metadata": {},
   "source": [
    "Betrachtet entweder die Temperatur oder den Luftdruck übers ganze Jahr. Berechnet die Ableitung der gewählten Variable und stellt diese auch dar, um einen Zeitraum von ca. 1 Woche mit grossen Schwankungen zu finden.\n",
    "\n",
    "In der gewählten Woche mit grossen Schwankungen sollen nun die Zeitpunkte bestimmt werden, zu denen die Temperatur bzw. der Luftdruck am stärksten steigt bzw. fällt, also das Maximum und das Minimum der Ableitung.\n",
    "\n",
    "Um das Maximum/Minimum eines Arrays zu finden, könnt ihr die Funktionen [`np.argmax`](https://numpy.org/doc/stable//reference/generated/numpy.argmax.htm) und [`np.argmin`](https://numpy.org/doc/stable//reference/generated/numpy.argmin.html) verwenden. "
   ]
  },
  {
   "cell_type": "code",
   "execution_count": null,
   "metadata": {},
   "outputs": [],
   "source": []
  },
  {
   "cell_type": "markdown",
   "metadata": {},
   "source": [
    "### 6. Mittelwerte berechnen"
   ]
  },
  {
   "cell_type": "markdown",
   "metadata": {},
   "source": [
    "Wählt eine der Messgrössen aus und berechnet den Mittelwert über das ganze Jahr und den Mittelwert pro Monat. Der Einfachheit halber könnt ihr den Monat als 1/12 des Jahres definieren.\n",
    "\n",
    "Stellt die eigentliche Variable und die Mittelwerte zusammen grafisch dar.\n",
    "\n",
    "Die Mittelung soll mithilfe der Integration über die Interpolationsfunktion aus Schritt 2 berechnet werden.\n",
    "\n",
    "Bei der Integration kann es Warnungen geben, da die Interpolationsfunktionen teils stark schwanken. Es kann hilfreich sein, mit dem Parameter `limit` die Anzahl Subintervalle zu erhöhen. Probiert aus, ab wann sich das Resultat nicht mehr gross ändert.\n",
    "\n",
    "*Emphehlungen:* \n",
    "- Implementiert dies zuerst für die Temperatur, da diese am einfachsten zu interpretieren ist. Dann könnt ihr immer noch die anderen Messgrössen betrachten.\n",
    "- Beginnt mit dem Mittelwert über das ganze Jahr, dann verallgemeinert für ein beliebiges Zeitintervall und iteriert schliesslich über die Monate."
   ]
  },
  {
   "cell_type": "code",
   "execution_count": null,
   "metadata": {},
   "outputs": [],
   "source": []
  },
  {
   "cell_type": "markdown",
   "metadata": {},
   "source": [
    "### 7. Glättung (Gleitendes Mittel) bestimmen"
   ]
  },
  {
   "cell_type": "markdown",
   "metadata": {},
   "source": [
    "Nehmt die gleiche Messgrösse wie in Schritt 6 und berechnet das gleitende Mittel über das ganze Jahr. Dazu soll die Faltung mit einer symmetrischen Rechteckfunktion verwendet werden. Die Fensterbreite (Breite des Rechtecks) soll ein Parameter sein, den ihr variieren könnt.\n",
    "\n",
    "Stellt die Messgrösse und das gleitende Mittel mit Fensterbreite = 1 Woche zusammen dar. Optional könnt ihr dazu auch noch das gleitende Mittel mit Fensterbreite = 1 Monat darstellen.\n",
    "\n",
    "*Vorsicht:* Die Faltung ist rechenintensiv. Berechnet also zuerst das gleitende Mittel an wenigen Zeitpunkten über das ganze Jahr, z.B. 100, und erhöht dann die Anzahl Zeitpunkte vorsichtig."
   ]
  },
  {
   "cell_type": "code",
   "execution_count": null,
   "metadata": {},
   "outputs": [],
   "source": []
  },
  {
   "cell_type": "markdown",
   "metadata": {},
   "source": [
    "### Zusammenfassung"
   ]
  },
  {
   "cell_type": "markdown",
   "metadata": {},
   "source": []
  },
  {
   "cell_type": "markdown",
   "metadata": {},
   "source": [
    "### Reflexion"
   ]
  },
  {
   "cell_type": "markdown",
   "metadata": {},
   "source": [
    "Mitglied 1:\n",
    "- Was hat gut funktioniert?\n",
    "- Was hat nicht gut funktioniert?\n",
    "- Was würdest du beim nächsten Mal anders machen?\n",
    "- Was hast du gelernt?\n",
    "- Was war die grösste Herausforderung?\n",
    "- usw.\n"
   ]
  },
  {
   "cell_type": "markdown",
   "metadata": {},
   "source": []
  },
  {
   "cell_type": "markdown",
   "metadata": {},
   "source": [
    "Mitglied 2:\n",
    "- Was hat gut funktioniert?\n",
    "- Was hat nicht gut funktioniert?\n",
    "- Was würdest du beim nächsten Mal anders machen?\n",
    "- Was hast du gelernt?\n",
    "- Was war die grösste Herausforderung?\n",
    "- usw."
   ]
  },
  {
   "cell_type": "markdown",
   "metadata": {},
   "source": []
  },
  {
   "cell_type": "markdown",
   "metadata": {},
   "source": [
    "Mitglied 3:\n",
    "- Was hat gut funktioniert?\n",
    "- Was hat nicht gut funktioniert?\n",
    "- Was würdest du beim nächsten Mal anders machen?\n",
    "- Was hast du gelernt?\n",
    "- Was war die grösste Herausforderung?\n",
    "- usw."
   ]
  },
  {
   "cell_type": "markdown",
   "metadata": {},
   "source": []
  }
 ],
 "metadata": {
  "kernelspec": {
   "display_name": "venv",
   "language": "python",
   "name": "python3"
  },
  "language_info": {
   "codemirror_mode": {
    "name": "ipython",
    "version": 3
   },
   "file_extension": ".py",
   "mimetype": "text/x-python",
   "name": "python",
   "nbconvert_exporter": "python",
   "pygments_lexer": "ipython3",
   "version": "3.12.2"
  }
 },
 "nbformat": 4,
 "nbformat_minor": 2
}
